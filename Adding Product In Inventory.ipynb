{
 "cells": [
  {
   "cell_type": "code",
   "execution_count": 151,
   "id": "25592638",
   "metadata": {},
   "outputs": [],
   "source": [
    "import json "
   ]
  },
  {
   "cell_type": "code",
   "execution_count": 152,
   "id": "6ae28287",
   "metadata": {},
   "outputs": [],
   "source": [
    "f = open('Record.json', 'r')\n",
    "r = f.read()\n",
    "f.close()"
   ]
  },
  {
   "cell_type": "code",
   "execution_count": 153,
   "id": "6a8c7648",
   "metadata": {},
   "outputs": [],
   "source": [
    "loaded = json.loads(r)"
   ]
  },
  {
   "cell_type": "code",
   "execution_count": 154,
   "id": "72d67e69",
   "metadata": {},
   "outputs": [],
   "source": [
    "keylist = list()\n",
    "for i in loaded.keys():\n",
    "    keylist.append(i)"
   ]
  },
  {
   "cell_type": "code",
   "execution_count": 155,
   "id": "74eae8c1",
   "metadata": {},
   "outputs": [],
   "source": [
    "newProducts = {}"
   ]
  },
  {
   "cell_type": "code",
   "execution_count": 156,
   "id": "a7ecd419",
   "metadata": {
    "scrolled": false
   },
   "outputs": [
    {
     "name": "stdout",
     "output_type": "stream",
     "text": [
      "Product ID      Product Name\n",
      "    1101    :   Parle-G\n",
      "    1102    :   Marie Gold\n",
      "    1103    :   Vita Marie Gold\n",
      "    1104    :   Hide&Seek ChocoChips\n",
      "    1105    :   Dark Fantasy\n",
      "    1106    :   Oreo\n",
      "    1107    :   Fab\n",
      "    1108    :   Jim-Jam\n",
      "    1109    :   Treat\n",
      "    1110    :   Bounce Cream\n",
      "    1111    :   Bourbon\n",
      "    1112    :   Nutrichoice Digestive\n",
      "    1113    :   Unibic\n",
      "    1114    :   Krackjack\n",
      "    1115    :   20-20 Cookies\n",
      "    1116    :   Magix\n",
      "    1117    :   Milk Shakti\n",
      "    1118    :   MilkBikis\n",
      "    1119    :   Tiger\n",
      "    1120    :   GoodDay\n",
      "    1121    :   Little Hearts\n",
      "    1122    :   50-50 Sweet n Salty\n",
      "    1123    :   Nice-Time\n",
      "    1124    :   Snacky\n",
      "    1125    :   Cheese Cracker\n",
      "    1126    :   Hide&Seek Milano\n",
      "    1127    :   Happy Happy\n",
      "    1128    :   Coconut Cookies\n",
      "    1129    :   Top\n",
      "    1130    :   Monaco\n",
      "    1131    :   Googly\n",
      "    1132    :   CNC\n",
      "    1133    :   Classic cream\n",
      "    1134    :   Countlines\n",
      "Above are products already available in inventory.\n",
      "You can update the quantity of the already available product.\n",
      "To add a new product start with Product ID other than already used\n",
      "Enter the product id:1135\n",
      "Enter the product name:Butter Bake\n",
      "Enter the product weight (grams):150\n",
      "Enter the product price:55\n",
      "Enter the product quantity:100\n",
      "Enter the product manufacturer:Anmol Biscuits Pvt. Ltd\n",
      "Press enter for adding more or type 'Q' to finish adding product:q\n"
     ]
    }
   ],
   "source": [
    "while True:\n",
    "    print('Product ID      Product Name')\n",
    "    for ID in loaded:\n",
    "        print('   ',ID,'   :  ',loaded[ID]['Name'])\n",
    "    print('''Above are products already available in inventory.\n",
    "You can update the quantity of the already available product.\n",
    "To add a new product start with Product ID other than already used''')\n",
    "    product_id = input('Enter the product id:')\n",
    "    condition = product_id in keylist\n",
    "    if condition == True:\n",
    "        print('Product already available in inventory.','\\nName:',loaded[product_id]['Name'], '\\t','Manufacturer:',loaded[product_id]['Manufacturer'])\n",
    "        print('Quantity available:',loaded[product_id]['Quantity'])\n",
    "        n = int(input('Enter the quantity you want to add:'))\n",
    "        loaded[product_id]['Quantity'] = loaded[product_id]['Quantity'] + n\n",
    "        print('Updated quantity:',loaded[product_id]['Quantity'])\n",
    "    else:\n",
    "        product_name = input('Enter the product name:')\n",
    "        product_weight = input('Enter the product weight (grams):')\n",
    "        product_price = int(input('Enter the product price:'))\n",
    "        product_quantity = int(input('Enter the product quantity:'))\n",
    "        product_manufacturer = input('Enter the product manufacturer:')\n",
    "        newProducts[product_id] = {'Name'  : product_name, 'Weight (grams)' : product_weight, 'Price' : product_price, 'Quantity' : product_quantity, 'Manufacturer' : product_manufacturer}\n",
    "    decision = input('Press enter for adding more or type \\'Q\\' to finish adding product:')\n",
    "    if decision.lower() == 'q':\n",
    "        break"
   ]
  },
  {
   "cell_type": "code",
   "execution_count": 157,
   "id": "5a72e360",
   "metadata": {},
   "outputs": [
    {
     "name": "stdout",
     "output_type": "stream",
     "text": [
      "Inventory records have been updated\n"
     ]
    }
   ],
   "source": [
    "loaded.update(newProducts)\n",
    "newFile = open('Record.json', 'w')\n",
    "data = json.dumps(loaded, indent = 4)\n",
    "newFile.write(data)\n",
    "newFile.close()\n",
    "print('Inventory records have been updated')"
   ]
  },
  {
   "cell_type": "code",
   "execution_count": null,
   "id": "e48149c6",
   "metadata": {},
   "outputs": [],
   "source": []
  }
 ],
 "metadata": {
  "kernelspec": {
   "display_name": "Python 3",
   "language": "python",
   "name": "python3"
  },
  "language_info": {
   "codemirror_mode": {
    "name": "ipython",
    "version": 3
   },
   "file_extension": ".py",
   "mimetype": "text/x-python",
   "name": "python",
   "nbconvert_exporter": "python",
   "pygments_lexer": "ipython3",
   "version": "3.8.8"
  }
 },
 "nbformat": 4,
 "nbformat_minor": 5
}
